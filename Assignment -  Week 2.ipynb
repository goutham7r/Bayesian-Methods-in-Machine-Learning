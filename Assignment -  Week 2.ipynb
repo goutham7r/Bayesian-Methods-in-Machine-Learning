{
 "cells": [
  {
   "cell_type": "markdown",
   "metadata": {},
   "source": [
    "# Expectation-maximization algorithm"
   ]
  },
  {
   "cell_type": "markdown",
   "metadata": {},
   "source": [
    "In this assignment, we will derive and implement formulas for Gaussian Mixture Model — one of the most commonly used methods for performing soft clustering of the data. "
   ]
  },
  {
   "cell_type": "markdown",
   "metadata": {},
   "source": [
    "### Installation\n",
    "\n",
    "We will need ```numpy```, ```scikit-learn```, ```matplotlib``` libraries for this assignment"
   ]
  },
  {
   "cell_type": "code",
   "execution_count": 1,
   "metadata": {
    "collapsed": true
   },
   "outputs": [],
   "source": [
    "import numpy as np\n",
    "from numpy.linalg import slogdet, det, solve\n",
    "import matplotlib.pyplot as plt\n",
    "import time\n",
    "from sklearn.datasets import load_digits\n",
    "from grader import Grader\n",
    "%matplotlib inline"
   ]
  },
  {
   "cell_type": "markdown",
   "metadata": {},
   "source": [
    "### Grading\n",
    "We will create a grader instance below and use it to collect your answers. Note that these outputs will be stored locally inside grader and will be uploaded to the platform only after running submitting function in the last part of this assignment. If you want to make a partial submission, you can run that cell anytime you want."
   ]
  },
  {
   "cell_type": "code",
   "execution_count": 2,
   "metadata": {
    "collapsed": true
   },
   "outputs": [],
   "source": [
    "grader = Grader()"
   ]
  },
  {
   "cell_type": "markdown",
   "metadata": {},
   "source": [
    "## Implementing EM for GMM"
   ]
  },
  {
   "cell_type": "markdown",
   "metadata": {},
   "source": [
    "For debugging we will use samples from gaussian mixture model with unknown mean, variance and priors. We also added inital values of parameters for grading purposes."
   ]
  },
  {
   "cell_type": "code",
   "execution_count": 3,
   "metadata": {},
   "outputs": [
    {
     "data": {
      "image/png": "[encoded data removed]",
      "text/plain": [
       "<Figure size 432x288 with 1 Axes>"
      ]
     },
     "metadata": {},
     "output_type": "display_data"
    }
   ],
   "source": [
    "samples = np.load('samples.npz')\n",
    "X = samples['data']\n",
    "pi0 = samples['pi0']\n",
    "mu0 = samples['mu0']\n",
    "sigma0 = samples['sigma0']\n",
    "plt.scatter(X[:, 0], X[:, 1], c='grey', s=30)\n",
    "plt.axis('equal')\n",
    "plt.show()"
   ]
  },
  {
   "cell_type": "markdown",
   "metadata": {},
   "source": [
    "### Reminder"
   ]
  },
  {
   "cell_type": "markdown",
   "metadata": {},
   "source": [
    "Remember, that EM algorithm is a coordinate descent optimization of variational lower bound $\\mathcal{L}(\\theta, q) = \\int q(T) \\log\\frac{P(X, T|\\theta)}{q(T)}dT\\to \\max$.\n",
    "\n",
    "<b>E-step</b>:<br>\n",
    "$\\mathcal{L}(\\theta, q) \\to \\max\\limits_{q} \\Leftrightarrow \\mathcal{KL} [q(T) \\,\\|\\, p(T|X, \\theta)] \\to \\min \\limits_{q\\in Q} \\Rightarrow q(T) = p(T|X, \\theta)$<br>\n",
    "<b>M-step</b>:<br> \n",
    "$\\mathcal{L}(\\theta, q) \\to \\max\\limits_{\\theta} \\Leftrightarrow \\mathbb{E}_{q(T)}\\log p(X,T | \\theta) \\to \\max\\limits_{\\theta}$\n",
    "\n",
    "For GMM, $\\theta$ is a set of parameters that consists of mean vectors $\\mu_c$, covariance matrices $\\Sigma_c$ and priors $\\pi_c$ for each component.\n",
    "\n",
    "Latent variables $T$ are indices of components to which each data point is assigned. $T_i$ (cluster index for object $i$) is a binary vector with only one active bit in position corresponding to the true component. For example, if we have $C=3$ components and object $i$ lies in first component, $T_i = [1, 0, 0]$.\n",
    "\n",
    "The joint distribution can be written as follows: $p(T, X \\mid \\theta) =  \\prod\\limits_{i=1}^N p(T_i, X_i \\mid \\theta) = \\prod\\limits_{i=1}^N \\prod\\limits_{c=1}^C [\\pi_c \\mathcal{N}(X_i \\mid \\mu_c, \\Sigma_c)]^{T_{ic}}$."
   ]
  },
  {
   "cell_type": "markdown",
   "metadata": {},
   "source": [
    "### E-step\n",
    "In this step we need to estimate the posterior distribution over the latent variables with fixed values of parameters: $q(T) = p(T|X, \\theta)$. We will assume that $T_i$ (cluster index for object $i$) is a binary vector with only one '1' in position corresponding to the true component. To do so we need to compute $\\gamma_{ic} = P(T_{ic} = 1 \\mid X, \\theta)$. Note that $\\sum\\limits_{c=1}^C\\gamma_{ic}=1$.\n"
   ]
  },
  {
   "cell_type": "markdown",
   "metadata": {},
   "source": [
    "<b>Important trick 1:</b> It is important to avoid numerical errors. At some point you will have to compute the formula of the following form: $\\frac{e^{x_i}}{\\sum_j e^{x_j}}$. When you compute exponents of large numbers, you get huge numerical errors (some numbers will simply become infinity). You can avoid this by dividing numerator and denominator by $e^{\\max(x)}$: $\\frac{e^{x_i-\\max(x)}}{\\sum_j e^{x_j - \\max(x)}}$. After this transformation maximum value in the denominator will be equal to one. All other terms will contribute smaller values. This trick is called log-sum-exp. So, to compute desired formula you first subtract maximum value from each component in vector $X$ and then compute everything else as before.\n",
    "\n",
    "<b>Important trick 2:</b> You will probably need to compute formula of the form $A^{-1}x$ at some point. You would normally inverse $A$ and then multiply it by $x$. A bit faster and more numerically accurate way to do this is to solve the equation $Ay = x$. Its solution is $y=A^{-1}x$, but the equation $Ay = x$ can be solved by Gaussian elimination procedure. You can use ```np.linalg.solve``` for this.\n",
    "\n",
    "<b>Other usefull functions: </b> <a href=\"https://docs.scipy.org/doc/numpy/reference/generated/numpy.linalg.slogdet.html\">```slogdet```</a> and <a href=\"https://docs.scipy.org/doc/numpy/reference/generated/numpy.linalg.det.html#numpy.linalg.det\">```det```</a>"
   ]
  },
  {
   "cell_type": "markdown",
   "metadata": {},
   "source": [
    "<b>Task 1:</b> Implement E-step for GMM using template below."
   ]
  },
  {
   "cell_type": "code",
   "execution_count": 32,
   "metadata": {},
   "outputs": [],
   "source": [
    "def E_step(X, pi, mu, sigma):\n",
    "    \"\"\"\n",
    "    Performs E-step on GMM model\n",
    "    Each input is numpy array:\n",
    "    X: (N x d), data points\n",
    "    pi: (C), mixture component weights \n",
    "    mu: (C x d), mixture component means\n",
    "    sigma: (C x d x d), mixture component covariance matrices\n",
    "    \n",
    "    Returns:\n",
    "    gamma: (N x C), probabilities of clusters for objects\n",
    "    \"\"\"\n",
    "    N = X.shape[0] # number of objects\n",
    "    C = pi.shape[0] # number of clusters\n",
    "    d = mu.shape[1] # dimension of each object\n",
    "    gamma = np.zeros((N, C)) # distribution q(T)\n",
    "#     print(N,C,d,gamma)\n",
    "    \n",
    "    \n",
    "    for n in range(N):\n",
    "        x = X[n]\n",
    "        for c in range(C):\n",
    "            diff = np.reshape(x - mu[c],(d,))\n",
    "#             print(x,mu[c],diff,sigma[c])\n",
    "#             print(np.linalg.slogdet(sigma[c]))\n",
    "#             print(np.dot(np.dot(np.transpose(diff),np.linalg.inv(sigma[c])),diff),\"\\n\")\n",
    "            \n",
    "            gamma[n][c] = np.log(pi[c]) - (0.5)*np.linalg.slogdet(sigma[c])[1] - (0.5)*np.dot(np.transpose(diff),\n",
    "                                                                        np.linalg.solve(sigma[c],diff))\n",
    "#         print(gamma[n])\n",
    "        gamma[n] = gamma[n] - np.max(gamma[n])\n",
    "#         print(gamma[n])\n",
    "        gamma[n] = np.exp(gamma[n])\n",
    "#         print(gamma[n])\n",
    "        gamma[n] = gamma[n]/np.sum(gamma[n])\n",
    "#         print(gamma[n])\n",
    "        \n",
    "        \n",
    "#         break\n",
    "    \n",
    "    return gamma"
   ]
  },
  {
   "cell_type": "code",
   "execution_count": 33,
   "metadata": {},
   "outputs": [],
   "source": [
    "gamma = E_step(X, pi0, mu0, sigma0)"
   ]
  },
  {
   "cell_type": "code",
   "execution_count": 35,
   "metadata": {},
   "outputs": [
    {
     "name": "stdout",
     "output_type": "stream",
     "text": [
      "Current answer for task Task 1 (E-step) is: 0.5337178741081263\n",
      "Submitted to Coursera platform. See results on assignment page!\n"
     ]
    }
   ],
   "source": [
    "grader.submit_e_step(gamma)\n",
    "grader.submit(\"goutham7r@gmail.com\", \"oLKeOUdLHBd2oQ6x\")"
   ]
  },
  {
   "cell_type": "markdown",
   "metadata": {},
   "source": [
    "### M-step\n",
    "\n",
    "In M-step we need to maximize $\\mathbb{E}_{q(T)}\\log p(X,T | \\theta)$ with respect to $\\theta$. In our model this means that we need to find optimal values of $\\pi$, $\\mu$, $\\Sigma$. To do so, you need to compute the derivatives and \n",
    "set them to zero. You should start by deriving formulas for $\\mu$ as it is the easiest part. Then move on to $\\Sigma$. Here it is crucial to optimize function w.r.t. to $\\Lambda = \\Sigma^{-1}$ and then inverse obtained result. Finaly, to compute $\\pi$, you will need <a href=\"https://www3.nd.edu/~jstiver/FIN360/Constrained%20Optimization.pdf\">Lagrange Multipliers technique</a> to satisfy constraint $\\sum\\limits_{i=1}^{n}\\pi_i = 1$.\n",
    "\n",
    "<br>\n",
    "<b>Important note:</b> You will need to compute derivatives of scalars with respect to matrices. To refresh this technique from previous courses, see <a href=\"https://en.wikipedia.org/wiki/Matrix_calculus\"> wiki article</a> about it . Main formulas of matrix derivatives can be found in <a href=\"http://www2.imm.dtu.dk/pubdb/views/edoc_download.php/3274/pdf/imm3274.pdf\">Chapter 2 of The Matrix Cookbook</a>. For example, there you may find that $\\frac{\\partial}{\\partial A}\\log |A| = A^{-T}$.\n"
   ]
  },
  {
   "cell_type": "markdown",
   "metadata": {},
   "source": [
    "<b>Task 2:</b> Implement M-step for GMM using template below."
   ]
  },
  {
   "cell_type": "code",
   "execution_count": 36,
   "metadata": {
    "collapsed": true
   },
   "outputs": [],
   "source": [
    "def M_step(X, gamma):\n",
    "    \"\"\"\n",
    "    Performs M-step on GMM model\n",
    "    Each input is numpy array:\n",
    "    X: (N x d), data points\n",
    "    gamma: (N x C), distribution q(T)  \n",
    "    \n",
    "    Returns:\n",
    "    pi: (C)\n",
    "    mu: (C x d)\n",
    "    sigma: (C x d x d)\n",
    "    \"\"\"\n",
    "    N = X.shape[0] # number of objects\n",
    "    C = gamma.shape[1] # number of clusters\n",
    "    d = X.shape[1] # dimension of each object\n",
    "    \n",
    "    prob_sums = np.reshape(np.sum(gamma,axis=0),(C,1))\n",
    "    mu = np.divide(np.dot(np.transpose(gamma),X),prob_sums)\n",
    "    \n",
    "    sigma = np.zeros((C,d,d))\n",
    "    pi = np.zeros(C)\n",
    "        \n",
    "    for c in range(C):\n",
    "        tmp_gamma = np.array([gamma[:,c],gamma[:,c]])\n",
    "        sigma[c] = np.transpose(np.matmul(tmp_gamma*np.transpose(X-mu[c]),(X-mu[c])))/prob_sums[c]\n",
    "        pass\n",
    "    \n",
    "    pi = np.reshape(prob_sums,(C,))\n",
    "#     print(pi)\n",
    "    pi = pi/np.sum(pi)\n",
    "#     print(pi)\n",
    "    \n",
    "    \n",
    "    return pi, mu, sigma"
   ]
  },
  {
   "cell_type": "code",
   "execution_count": 37,
   "metadata": {},
   "outputs": [
    {
     "name": "stdout",
     "output_type": "stream",
     "text": [
      "(3,) (3, 2) (3, 2, 2)\n"
     ]
    }
   ],
   "source": [
    "pi, mu, sigma = M_step(X, gamma)\n",
    "print(pi.shape,mu.shape,sigma.shape)"
   ]
  },
  {
   "cell_type": "code",
   "execution_count": 39,
   "metadata": {},
   "outputs": [
    {
     "name": "stdout",
     "output_type": "stream",
     "text": [
      "Current answer for task Task 2 (M-step: mu) is: 2.8993918820503812\n",
      "Current answer for task Task 2 (M-step: sigma) is: 5.977105216897527\n",
      "Current answer for task Task 2 (M-step: pi) is: 0.5507624459218776\n",
      "Submitted to Coursera platform. See results on assignment page!\n"
     ]
    }
   ],
   "source": [
    "gamma = E_step(X, pi0, mu0, sigma0)\n",
    "pi, mu, sigma = M_step(X, gamma)\n",
    "grader.submit_m_step(pi, mu, sigma)\n",
    "grader.submit(\"goutham7r@gmail.com\", \"oLKeOUdLHBd2oQ6x\")"
   ]
  },
  {
   "cell_type": "markdown",
   "metadata": {},
   "source": [
    "### Loss function"
   ]
  },
  {
   "cell_type": "markdown",
   "metadata": {},
   "source": [
    "Finally, we need some function to track convergence. We will use variational lower bound $\\mathcal{L}$ for this purpose. We will stop our EM iterations when $\\mathcal{L}$ will saturate. Usually, you will need only about 10-20 iterations to converge. It is also useful to check that this function never decreases during training. If it does, you have a bug in your code.\n",
    "\n",
    "<b>Task 3:</b> Implement a function that will compute $\\mathcal{L}$ using template below.\n",
    "\n",
    "$$\\mathcal{L} = \\sum_{n=1}^{N} \\sum_{k=1}^{K} \\mathbb{E}[z_{n, k}] (\\log \\pi_k + \\log \\mathcal{N}(x_n | \\mu_k, \\sigma_k)) - \\sum_{n=1}^{N} \\sum_{k=1}^{K} \\mathbb{E}[z_{n, k}] \\log \\mathbb{E}[z_{n, k}]$$"
   ]
  },
  {
   "cell_type": "code",
   "execution_count": 43,
   "metadata": {
    "collapsed": true
   },
   "outputs": [],
   "source": [
    "def compute_vlb(X, pi, mu, sigma, gamma):\n",
    "    \"\"\"\n",
    "    Each input is numpy array:\n",
    "    X: (N x d), data points\n",
    "    gamma: (N x C), distribution q(T)  \n",
    "    pi: (C)\n",
    "    mu: (C x d)\n",
    "    sigma: (C x d x d)\n",
    "    \n",
    "    Returns value of variational lower bound\n",
    "    \"\"\"\n",
    "    N = X.shape[0] # number of objects\n",
    "    C = gamma.shape[1] # number of clusters\n",
    "    d = X.shape[1] # dimension of each object\n",
    "    \n",
    "    loss = 0\n",
    "    \n",
    "    for n in range(N):\n",
    "        for c in range(C):\n",
    "            diff = X[n] - mu[c]\n",
    "            if pi[c]>0 and gamma[n][c]>0:\n",
    "                loss += gamma[n][c]*(np.log(pi[c]) - 0.5*d*np.log(2*np.pi) \n",
    "                                         - 0.5*np.linalg.slogdet(sigma[c])[1] \n",
    "                                         - 0.5*np.dot(np.transpose(diff),np.linalg.solve(sigma[c],diff))\n",
    "                                         - np.log(gamma[n][c]))\n",
    "    return loss"
   ]
  },
  {
   "cell_type": "code",
   "execution_count": 44,
   "metadata": {},
   "outputs": [
    {
     "name": "stdout",
     "output_type": "stream",
     "text": [
      "Current answer for task Task 3 (VLB) is: -1213.973464306019\n",
      "Submitted to Coursera platform. See results on assignment page!\n"
     ]
    }
   ],
   "source": [
    "pi, mu, sigma = pi0, mu0, sigma0\n",
    "gamma = E_step(X, pi, mu, sigma)\n",
    "pi, mu, sigma = M_step(X, gamma)\n",
    "loss = compute_vlb(X, pi, mu, sigma, gamma)\n",
    "grader.submit_VLB(loss)\n",
    "grader.submit(\"goutham7r@gmail.com\", \"oLKeOUdLHBd2oQ6x\")"
   ]
  },
  {
   "cell_type": "markdown",
   "metadata": {},
   "source": [
    "### Bringing it all together"
   ]
  },
  {
   "cell_type": "markdown",
   "metadata": {},
   "source": [
    "Now that we have E step, M step and VLB, we can implement training loop. We will start at random values of $\\pi$, $\\mu$ and $\\Sigma$, train until $\\mathcal{L}$ stops changing and return the resulting points. We also know that EM algorithm sometimes stops at local optima. To avoid this we should restart algorithm multiple times from different starting positions. Each training trial should stop either when maximum number of iterations is reached or when relative improvement is smaller than given tolerance ($|\\frac{\\mathcal{L}_i-\\mathcal{L}_{i-1}}{\\mathcal{L}_{i-1}}| \\le \\text{rtol}$).\n",
    "\n",
    "Remember, that values of $\\pi$ that you generate must be non-negative and sum up to 1. Also, $\\Sigma$ matrices must be symmetric and positive semi-definite. If you don't know how to generate those matrices, you can use $\\Sigma=I$ as initialization.\n",
    "\n",
    "You will also sometimes get numerical errors because of component collapsing. The easiest way to deal with this problems is to simply restart the procedure.\n",
    "\n",
    "<b>Task 4:</b> Implement training procedure"
   ]
  },
  {
   "cell_type": "code",
   "execution_count": 45,
   "metadata": {
    "collapsed": true
   },
   "outputs": [],
   "source": [
    "def train_EM(X, C, rtol=1e-3, max_iter=100, restarts=10):\n",
    "    '''\n",
    "    Starts with random initialization *restarts* times\n",
    "    Runs optimization until saturation with *rtol* reached\n",
    "    or *max_iter* iterations were made.\n",
    "    \n",
    "    X: (N, d), data points\n",
    "    C: int, number of clusters\n",
    "    '''\n",
    "    N = X.shape[0] # number of objects\n",
    "    d = X.shape[1] # dimension of each object\n",
    "    best_loss = -float(\"inf\")\n",
    "    best_pi = None\n",
    "    best_mu = None\n",
    "    best_sigma = None\n",
    "    \n",
    "    avg = np.mean(X,axis=0)\n",
    "    \n",
    "    for _ in range(restarts):\n",
    "        print(\"\\n\\nStart\",_)\n",
    "        \n",
    "        pi = np.random.random(C,)\n",
    "        pi = pi/np.sum(pi)\n",
    "        \n",
    "        mu = np.random.random((C,d))*avg\n",
    "        \n",
    "        sigma = np.zeros((C,d,d))\n",
    "        for c in range(C):\n",
    "            sig = np.random.randn(d,d)\n",
    "            sigma[c] = np.dot(sig,sig.transpose())\n",
    "#             sigma[c] = np.eye(d)\n",
    "        \n",
    "        try:\n",
    "            for i in range(max_iter):\n",
    "                print(\"iter\",i)\n",
    "                gamma = E_step(X, pi, mu, sigma)\n",
    "                loss1 = compute_vlb(X, pi, mu, sigma, gamma)\n",
    "                pi, mu, sigma = M_step(X, gamma)\n",
    "                loss2 = compute_vlb(X, pi, mu, sigma, gamma)\n",
    "                print(loss1,loss2)\n",
    "                \n",
    "                perc = (1.0*abs((loss1-loss2)/loss1))\n",
    "                if perc<rtol:\n",
    "                    break\n",
    "            \n",
    "            if loss2>best_loss:\n",
    "                best_loss, best_pi, best_mu, best_sigma = loss2, pi, mu, sigma\n",
    "            print(best_loss)\n",
    "\n",
    "        except np.linalg.LinAlgError:\n",
    "            print(\"Singular matrix: components collapsed\")\n",
    "            pass\n",
    "\n",
    "    return best_loss, best_pi, best_mu, best_sigma"
   ]
  },
  {
   "cell_type": "code",
   "execution_count": 46,
   "metadata": {},
   "outputs": [
    {
     "name": "stdout",
     "output_type": "stream",
     "text": [
      "\n",
      "\n",
      "Start 0\n",
      "iter 0\n",
      "-1431.1225359817538 -1193.7263305309043\n",
      "iter 1\n",
      "-1179.1313632035553 -1172.290389876311\n",
      "iter 2\n",
      "-1167.5972493402003 -1163.946729608073\n",
      "iter 3\n",
      "-1160.7005459383038 -1157.6951415318158\n",
      "iter 4\n",
      "-1154.6299580364628 -1151.6326966637882\n",
      "iter 5\n",
      "-1148.4942713345943 -1145.3227061045125\n",
      "iter 6\n",
      "-1141.9198945294859 -1138.2718086118316\n",
      "iter 7\n",
      "-1134.4364613760697 -1130.3230564660614\n",
      "iter 8\n",
      "-1126.4258588359655 -1122.3059522382716\n",
      "iter 9\n",
      "-1118.4203410444632 -1114.0063701520874\n",
      "iter 10\n",
      "-1109.594980388274 -1104.0024967630259\n",
      "iter 11\n",
      "-1098.5469211543048 -1091.2684930387768\n",
      "iter 12\n",
      "-1085.6905047148075 -1079.1282857223264\n",
      "iter 13\n",
      "-1074.437767987172 -1069.601478663527\n",
      "iter 14\n",
      "-1067.505200058602 -1066.2598620866797\n",
      "iter 15\n",
      "-1065.5127985337772 -1064.9758118895377\n",
      "-1064.9758118895377\n",
      "\n",
      "\n",
      "Start 1\n",
      "iter 0\n",
      "-2245.6632687575266 -1244.7212638380363\n",
      "iter 1\n",
      "Singular matrix: components collapsed\n",
      "\n",
      "\n",
      "Start 2\n",
      "iter 0\n",
      "-1443.1913462370283 -1248.9426387576634\n",
      "iter 1\n",
      "-1217.420304929371 -1192.9713507530225\n",
      "iter 2\n",
      "-1178.0501863703923 -1168.2102050749859\n",
      "iter 3\n",
      "-1164.5440181395074 -1162.7617676834818\n",
      "iter 4\n",
      "-1162.1191354477194 -1161.8193862564744\n",
      "-1064.9758118895377\n",
      "\n",
      "\n",
      "Start 3\n",
      "iter 0\n",
      "-13902.759126400799 -1226.4482682932025\n",
      "iter 1\n",
      "-1172.0762807118049 -1162.2420102619897\n",
      "iter 2\n",
      "-1155.276961064641 -1148.8403527762373\n",
      "iter 3\n",
      "-1144.2885743571956 -1140.6261875486891\n",
      "iter 4\n",
      "-1138.5216014214564 -1137.12268397898\n",
      "iter 5\n",
      "-1136.290494194074 -1135.6159539684736\n",
      "-1064.9758118895377\n",
      "\n",
      "\n",
      "Start 4\n",
      "iter 0\n",
      "-4836.318827012205 -1260.903561149659\n",
      "iter 1\n",
      "-1204.5466032238758 -1188.7303902304454\n",
      "iter 2\n",
      "-1178.8111139630703 -1169.1935835818608\n",
      "iter 3\n",
      "-1163.4998177104205 -1159.982849502748\n",
      "iter 4\n",
      "-1158.4344815257891 -1157.505018646558\n",
      "-1064.9758118895377\n",
      "\n",
      "\n",
      "Start 5\n",
      "iter 0\n",
      "-1822.9891809604649 -1243.3843399309958\n",
      "iter 1\n",
      "-1205.3224431091187 -1190.0627102410838\n",
      "iter 2\n",
      "-1177.7277647199323 -1165.8163659291392\n",
      "iter 3\n",
      "-1154.0575373858178 -1142.7745922274826\n",
      "iter 4\n",
      "-1132.752076541957 -1124.4406323128721\n",
      "iter 5\n",
      "-1118.4058389306522 -1113.9711128437657\n",
      "iter 6\n",
      "-1110.8991466019263 -1108.5534522699047\n",
      "iter 7\n",
      "-1106.7475826767889 -1105.2680096252607\n",
      "iter 8\n",
      "-1104.0498154291786 -1103.0169592159016\n",
      "-1064.9758118895377\n",
      "\n",
      "\n",
      "Start 6\n",
      "iter 0\n",
      "-1575.8285693103505 -1202.2402082573908\n",
      "iter 1\n",
      "-1182.8597122196752 -1175.8191997201916\n",
      "iter 2\n",
      "-1170.7245524043865 -1167.0772448075813\n",
      "iter 3\n",
      "-1164.1610129481207 -1161.7274147567284\n",
      "iter 4\n",
      "-1159.5757228036175 -1157.520691424848\n",
      "iter 5\n",
      "-1155.5980534512464 -1153.6526155128686\n",
      "iter 6\n",
      "-1151.8592089664799 -1150.0526858780752\n",
      "iter 7\n",
      "-1148.4224028347105 -1146.8211457205591\n",
      "iter 8\n",
      "-1145.46363810166 -1144.2518507937205\n",
      "iter 9\n",
      "-1143.3458897916155 -1142.6381702858623\n",
      "-1064.9758118895377\n",
      "\n",
      "\n",
      "Start 7\n",
      "iter 0\n",
      "-1692.3652073574485 -1235.0214787330156\n",
      "iter 1\n",
      "-1201.8371681013716 -1182.3403162332813\n",
      "iter 2\n",
      "-1167.1515958068032 -1155.3202528766708\n",
      "iter 3\n",
      "-1145.8543617923763 -1138.5799161055481\n",
      "iter 4\n",
      "-1133.3522291863974 -1129.0081436661633\n",
      "iter 5\n",
      "-1125.316302322203 -1121.782913600516\n",
      "iter 6\n",
      "-1118.4794998410794 -1115.1175687932166\n",
      "iter 7\n",
      "-1111.9687619205845 -1108.748933059172\n",
      "iter 8\n",
      "-1105.767949418826 -1102.7003284350856\n",
      "iter 9\n",
      "-1099.8365143748854 -1096.7811730981275\n",
      "iter 10\n",
      "-1094.083021654991 -1091.1729848019477\n",
      "iter 11\n",
      "-1088.8673518455548 -1086.5282892675548\n",
      "iter 12\n",
      "-1084.8072595758133 -1083.1263168864791\n",
      "iter 13\n",
      "-1081.7802827048927 -1080.314923346102\n",
      "iter 14\n",
      "-1078.966017671016 -1077.2495133289535\n",
      "iter 15\n",
      "-1075.572200059535 -1073.2776130634677\n",
      "iter 16\n",
      "-1071.3741944859123 -1069.172834484769\n",
      "iter 17\n",
      "-1067.7737819912272 -1066.5684002775165\n",
      "iter 18\n",
      "-1065.9182765319388 -1065.3963138660329\n",
      "-1064.9758118895377\n",
      "\n",
      "\n",
      "Start 8\n",
      "iter 0\n",
      "-3104.7492820069574 -1297.4239376234798\n",
      "iter 1\n",
      "-1205.8479505258406 -1176.941484757821\n",
      "iter 2\n",
      "-1162.969968193041 -1152.9512093843912\n",
      "iter 3\n",
      "-1146.6361735960681 -1141.6008795805049\n",
      "iter 4\n",
      "-1138.418590609205 -1136.1397295973345\n",
      "iter 5\n",
      "-1134.613711104865 -1133.4298831985047\n",
      "iter 6\n",
      "-1132.4544127892843 -1131.5453213106707\n",
      "-1064.9758118895377\n",
      "\n",
      "\n",
      "Start 9\n",
      "iter 0\n",
      "-4141.742455248762 -1288.0180108908735\n",
      "iter 1\n",
      "-1193.4891602747662 -1169.332906756382\n",
      "iter 2\n",
      "-1157.2553118823407 -1149.4119082764364\n",
      "iter 3\n",
      "-1145.7232470502104 -1142.4849101891684\n",
      "iter 4\n",
      "-1139.9545743471929 -1137.2070987078762\n",
      "iter 5\n",
      "-1134.8480027565013 -1132.3326886969426\n",
      "iter 6\n",
      "-1129.761583583516 -1126.8912843889045\n",
      "iter 7\n",
      "-1123.4809126725684 -1119.5572988839237\n",
      "iter 8\n",
      "-1115.1961705128306 -1111.1995617807975\n",
      "iter 9\n",
      "-1107.4545830819457 -1103.5315515410505\n",
      "iter 10\n",
      "-1099.1693119184476 -1094.5321853618705\n",
      "iter 11\n",
      "-1090.890134536773 -1087.8525716905224\n",
      "iter 12\n",
      "-1085.4705081263342 -1083.2429463631702\n",
      "iter 13\n",
      "-1081.1096378634463 -1078.9668822812232\n",
      "iter 14\n",
      "-1076.8589372807342 -1074.768925322694\n",
      "iter 15\n",
      "-1072.819874662163 -1070.9833791293418\n",
      "iter 16\n",
      "-1069.4023560879095 -1068.0197970582274\n",
      "iter 17\n",
      "-1066.9245652719085 -1066.0407192356577\n",
      "-1064.9758118895377\n",
      "Current answer for task Task 4 (EM) is: -1064.9758118895377\n"
     ]
    }
   ],
   "source": [
    "best_loss, best_pi, best_mu, best_sigma = train_EM(X, 3,restarts=10)\n",
    "grader.submit_EM(best_loss)"
   ]
  },
  {
   "cell_type": "markdown",
   "metadata": {},
   "source": [
    "If you implemented all the steps correctly, your algorithm should converge in about 20 iterations. Let's plot the clusters to see it. We will assign a cluster label as the most probable cluster index. This can be found using matrix $\\gamma$ computed on last E-step. \n"
   ]
  },
  {
   "cell_type": "code",
   "execution_count": 47,
   "metadata": {},
   "outputs": [
    {
     "data": {
      "image/png": "[encoded data removed]",
      "text/plain": [
       "<Figure size 432x288 with 1 Axes>"
      ]
     },
     "metadata": {},
     "output_type": "display_data"
    }
   ],
   "source": [
    "gamma = E_step(X, best_pi, best_mu, best_sigma)\n",
    "labels = gamma.argmax(1)\n",
    "plt.scatter(X[:, 0], X[:, 1], c=labels, s=30)\n",
    "plt.axis('equal')\n",
    "plt.show()"
   ]
  },
  {
   "cell_type": "markdown",
   "metadata": {},
   "source": [
    "### Authorization & Submission\n",
    "To submit assignment parts to Cousera platform, please, enter your e-mail and your token into variables below. You can generate the token on this programming assignment page. <b>Note:</b> Token expires 30 minutes after generation."
   ]
  },
  {
   "cell_type": "code",
   "execution_count": 48,
   "metadata": {},
   "outputs": [
    {
     "name": "stdout",
     "output_type": "stream",
     "text": [
      "You want to submit these numbers:\n",
      "Task Task 1 (E-step): 0.5337178741081263\n",
      "Task Task 2 (M-step: mu): 2.8993918820503812\n",
      "Task Task 2 (M-step: sigma): 5.977105216897527\n",
      "Task Task 2 (M-step: pi): 0.5507624459218776\n",
      "Task Task 3 (VLB): -1213.973464306019\n",
      "Task Task 4 (EM): -1064.9758118895377\n"
     ]
    }
   ],
   "source": [
    "STUDENT_EMAIL = \"goutham7r@gmail.com\"\n",
    "STUDENT_TOKEN = \"yo9ffuvfA1lOkk2N\"\n",
    "grader.status()"
   ]
  },
  {
   "cell_type": "markdown",
   "metadata": {},
   "source": [
    "If you want to submit these answers, run cell below"
   ]
  },
  {
   "cell_type": "code",
   "execution_count": 49,
   "metadata": {},
   "outputs": [
    {
     "name": "stdout",
     "output_type": "stream",
     "text": [
      "Submitted to Coursera platform. See results on assignment page!\n"
     ]
    }
   ],
   "source": [
    "grader.submit(\"goutham7r@gmail.com\", \"oLKeOUdLHBd2oQ6x\")"
   ]
  },
  {
   "cell_type": "code",
   "execution_count": null,
   "metadata": {
    "collapsed": true
   },
   "outputs": [],
   "source": []
  }
 ],
 "metadata": {
  "kernelspec": {
   "display_name": "Python 3",
   "language": "python",
   "name": "python3"
  },
  "language_info": {
   "codemirror_mode": {
    "name": "ipython",
    "version": 3
   },
   "file_extension": ".py",
   "mimetype": "text/x-python",
   "name": "python",
   "nbconvert_exporter": "python",
   "pygments_lexer": "ipython3",
   "version": "3.5.2"
  },
  "latex_envs": {
   "bibliofile": "biblio.bib",
   "cite_by": "apalike",
   "current_citInitial": 1,
   "eqLabelWithNumbers": true,
   "eqNumInitial": 0
  }
 },
 "nbformat": 4,
 "nbformat_minor": 2
}
